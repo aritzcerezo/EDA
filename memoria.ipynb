{
 "cells": [
  {
   "cell_type": "markdown",
   "metadata": {},
   "source": [
    "<p align=\"center\">\n",
    "  <img src=\"img\\logo.png\" alt=\"laliga\">\n",
    "</p>"
   ]
  },
  {
   "cell_type": "markdown",
   "metadata": {},
   "source": [
    "# Exploratory data analysis: LaLiga  "
   ]
  },
  {
   "cell_type": "markdown",
   "metadata": {},
   "source": [
    "#### Analisis sobre el rendimiento de los equipos en distintas condiciones"
   ]
  },
  {
   "cell_type": "markdown",
   "metadata": {},
   "source": [
    "##### Índice:\n",
    "\n",
    "- Introducción y motivación.\n",
    "\n",
    "- Obtencion de Datos.\n",
    "\n",
    "- Nomenclatura de los Datos.\n",
    "\n",
    "- Herramientas para la utilización de datos.\n",
    "\n",
    "- Uso de notebooks.\n",
    "\n",
    "- Hipótesis: \n",
    "    - Los equipos con mejor rendimiento en LaLiga mantienen rachas de victorias y son capaces de evitar las de derrotas\n",
    "    - Los equipos con mejor desempeño en LaLiga tienen una mayor cantidad de disparos. Además son más eficaces que los demás.\n",
    "    - Los equipos tienen un mejor rendimiento cuando juegan de locales: marcan más y les marcan menos.\n",
    "    - Existe un factor de horario que influye a algunos partidos.\n",
    "    - ¿Existe un número de goles que tenga mayor frecuencia que otros para algún equipo en específico?\n",
    "    - Los equipos con mayor presupuesto son los que mejor eligen los fichajes mientras que los de la tabla más baja recurren a fichajes más baratos. Se busca un factor de influencia en la nacionalidad de los jugadores extranjeros.\n",
    "    - ¿La edad de la plantilla inlfuye?\n",
    "    "
   ]
  },
  {
   "cell_type": "markdown",
   "metadata": {},
   "source": [
    "#### Introducción y motivación:"
   ]
  },
  {
   "cell_type": "markdown",
   "metadata": {},
   "source": [
    "En este trabajo de EDA (Exploratory data analysis), trataremos de analizar a los distintos equipos de LaLiga en la temporada 22/23 de forma que podamos sacar conclusiones mediante estadística descriptiva en cuanto a su desempeño en los partidos. \n",
    "\n",
    "La necesidad de hacer este trabajo viene dada por la busqueda de patrones de eventos como pueden ser rachas de goles o mejoras en el rendimiento a la hora de jugar como equipo local. "
   ]
  },
  {
   "cell_type": "markdown",
   "metadata": {},
   "source": [
    "#### Obtención de datos:"
   ]
  },
  {
   "cell_type": "markdown",
   "metadata": {},
   "source": [
    "Se han tomado dos tipos de datos en este trabajo. El primero, en formato '.csv', tomado de la página [football-data](https://www.football-data.co.uk/), contiene los datos de cada uno de los partidos que se jugaron en la temporada 22/23 de LaLiga. El segundo, obtenido mediante webscrapping, se han tomado de la página de futbol [transfermarkt](https://www.transfermarkt.es/), que contiene datos de cada una de las plantillas que tuvieron los equipos en dicha temporada."
   ]
  },
  {
   "cell_type": "markdown",
   "metadata": {},
   "source": [
    "#### Nomenclatura de los datos de los partidos:"
   ]
  },
  {
   "cell_type": "markdown",
   "metadata": {},
   "source": [
    "El archivo 'SP1.csv' obtenido que contiene los datos de los partidos de la temporada contiene muchas columnas que no nos hacen falta, por ello, se han tomado solamente las columnas que tienen sentido considerarse en un EDA como este. Son las siguientes:\n",
    "\n",
    "- Date: Contiene la fecha en la que se jugó el partido.\n",
    "- Time: La hora a la que se jugó el partido.\n",
    "- HomeTeam: El equipo que jugaba de local\n",
    "- AwayTeam: El equipo que jugaba de visitante.\n",
    "- FTHG: Goles totales marcados por el equipo local.\n",
    "- FTAG: Goles totales marcados por el equipo visitante.\n",
    "- FTR: Resultado final del partido. 'H' si ganó el equipo local, 'D' si el resultado fué empate, 'A' si ganó el equipo visitante.\n",
    "- HTHG: Goles marcados por el equipo local en la primera mitad del partido.\n",
    "- HTAG: Goles marcados por el equipo visitante en la primera mitad del partido.\n",
    "- HTR: Resultado a mitad del partido. 'H' si ganó el equipo local, 'D' si el resultado fué empate, 'A' si ganó el equipo visitante.\n",
    "- HS: Tiros a puerta totales del equipo local.\n",
    "- AS: Tiros a puerta totales del equipo visitante.\n",
    "- HST: Tiros totales del equipo local.\n",
    "- AST: Tiros totales del equipo visitante.\n",
    "- HF: Faltas realizadas por el equipo local.\n",
    "- AF: Faltas realizadas por el equipo visitante.\n",
    "- HC: Corners realizados por el equipo local.\n",
    "- AC: Corners realizados por el equipo visitante.\n",
    "- HY: Tarjetas amarillas del equipo local.\n",
    "- AY: Tarjetas amarillas del equipo visitante.\n",
    "- HR: Tarjetas rojas del equipo local.\n",
    "- AR: Tarjetas rojas del equipo visitante.\n"
   ]
  },
  {
   "cell_type": "markdown",
   "metadata": {},
   "source": [
    "#### Herramientas:"
   ]
  },
  {
   "cell_type": "markdown",
   "metadata": {},
   "source": [
    "##### Las librerias utilizadas:\n",
    "\n",
    "En este proyecto se han utilizado las siguientes librerias: BeautifulSoup, fake_useragent, matplotlib.pyplot, numpy pandas, requests y seaborn. Se han importado de la siguiente forma:"
   ]
  },
  {
   "cell_type": "code",
   "execution_count": null,
   "metadata": {},
   "outputs": [],
   "source": [
    "from bs4 import BeautifulSoup \n",
    "from fake_useragent import UserAgent  \n",
    "import matplotlib.pyplot as plt\n",
    "import numpy as np\n",
    "import pandas as pd\n",
    "import requests\n",
    "import seaborn as sns\n"
   ]
  },
  {
   "cell_type": "markdown",
   "metadata": {},
   "source": [
    "Para facilitar la comprensión del código, se ha utilizado un Jupyter Notebook que contiene distintas funciones que simplifican el trabajo a realizar. Este notebook es [herlpers](helpers.py). A continuación explicaremos cada una de las funciones que contiene."
   ]
  },
  {
   "cell_type": "markdown",
   "metadata": {},
   "source": [
    "Para entender mejor la necesidad de crear estas funciones, veamos como es la tabla que contiene los datos de los jugadores del [Athletic Club](https://www.transfermarkt.es/athletic-club/kader/verein/621/plus/0/galerie/0?saison_id=2022):"
   ]
  },
  {
   "cell_type": "markdown",
   "metadata": {},
   "source": [
    "<p align=\"center\">\n",
    "  <img src=\"img\\tabla_ejemplo.png\" alt=\"Ejemplo tabla\">\n",
    "</p>"
   ]
  },
  {
   "cell_type": "code",
   "execution_count": null,
   "metadata": {},
   "outputs": [],
   "source": [
    "def get_soup(url):\n",
    "    '''\n",
    "    Esta función crea la 'Soup' mediante BeautifulSoup\n",
    "    '''\n",
    "    ua = UserAgent()\n",
    "    headers = {'User-Agent': ua.random}\n",
    "    response = requests.get(url, headers=headers)\n",
    "    soup=BeautifulSoup(response.text, 'html.parser')\n",
    "    return soup"
   ]
  },
  {
   "cell_type": "code",
   "execution_count": null,
   "metadata": {},
   "outputs": [],
   "source": [
    "def nombres(soup):\n",
    "    '''\n",
    "    Esta función devuelve una lista con los nombres de los jugadores\n",
    "    '''\n",
    "    list=[]\n",
    "    jugadores = soup.find(\"table\", class_=\"items\").find_all(\"table\", class_=\"inline-table\")\n",
    "    for jug in jugadores:\n",
    "        link=jug.find(\"a\")\n",
    "        nombre=link.text.strip()\n",
    "        list.append(nombre)\n",
    "    return list"
   ]
  },
  {
   "cell_type": "code",
   "execution_count": null,
   "metadata": {},
   "outputs": [],
   "source": [
    "def posiciones(soup):\n",
    "    '''\n",
    "    Esta función devuelve una lista con las posiciones de los jugadores\n",
    "    '''\n",
    "    list=[]\n",
    "    jugadores = soup.find(\"table\", class_=\"items\").find_all(\"td\", class_=\"posrela\")\n",
    "    for jg in jugadores:\n",
    "        posi=jg.find_all(\"tr\")[-1]\n",
    "        list.append(posi.text.strip())\n",
    "    return list"
   ]
  },
  {
   "cell_type": "code",
   "execution_count": null,
   "metadata": {},
   "outputs": [],
   "source": [
    "def edades(soup):\n",
    "    '''\n",
    "    Esta función devuelve una lista con las edades de los jugadores\n",
    "    '''\n",
    "    list=[]\n",
    "    jugadores = soup.find(\"table\", class_=\"items\").find_all(\"td\",class_=\"zentriert\")\n",
    "    for i in range(len(jugadores)):\n",
    "        if i%4==1:\n",
    "            edad=jugadores[i]   \n",
    "            list.append(edad.text.strip())\n",
    "    return list"
   ]
  },
  {
   "cell_type": "code",
   "execution_count": null,
   "metadata": {},
   "outputs": [],
   "source": [
    "def nacionalidades(soup):\n",
    "    '''\n",
    "    Esta función devuelve una lista con las nacionalidades de los jugadores\n",
    "    '''\n",
    "    list=[]\n",
    "    jugadores = soup.find(\"table\", class_=\"items\").find_all(\"td\",class_=\"zentriert\")\n",
    "    for i in range(len(jugadores)):\n",
    "        if i%4==2:\n",
    "            nac=jugadores[i].find(\"img\")['title']\n",
    "            list.append(nac)\n",
    "    return list"
   ]
  },
  {
   "cell_type": "code",
   "execution_count": null,
   "metadata": {},
   "outputs": [],
   "source": [
    "def valores(soup):\n",
    "    '''\n",
    "    Esta función devuelve una lista con los valores de mercado de los jugadores\n",
    "    '''\n",
    "    list=[]\n",
    "    jugadores = soup.find(\"table\", class_=\"items\").find_all(\"td\", class_=\"rechts hauptlink\")\n",
    "    for jg in jugadores:\n",
    "        precio=jg.find(\"a\")\n",
    "        if precio:\n",
    "            list.append(precio.text.strip())\n",
    "        else:\n",
    "            list.append(\"Desconocido\")\n",
    "    return list"
   ]
  },
  {
   "cell_type": "code",
   "execution_count": null,
   "metadata": {},
   "outputs": [],
   "source": [
    "def crear_df(soup):\n",
    "    '''Crea un DataFrame de un equipo de futbol a partir de una sopa de BeautifulSoup con Nombre, Edad, Posición\n",
    "     Nacionalidad y Valor de Mercado '''\n",
    "    dict = {'Nombre' : nombres(soup),\n",
    "        'Edad':edades(soup),\n",
    "        'Posición' : posiciones(soup),\n",
    "        'Nacionalidad': nacionalidades(soup),\n",
    "        'Valor_Mercado':valores(soup)\n",
    "    }\n",
    "    df=pd.DataFrame(dict)\n",
    "    return df"
   ]
  },
  {
   "cell_type": "markdown",
   "metadata": {},
   "source": [
    "Esta última función nos devuelve un dataframe que contiene los datos de una tabla similar a la que se ha mostrado en la imagen inicial. En el caso del Athletic club, las primeras filas del DataFrame que devuelve son:"
   ]
  },
  {
   "cell_type": "markdown",
   "metadata": {},
   "source": [
    "<p align=\"center\">\n",
    "  <img src=\"img\\df_ejemplo.png\" alt=\"Ejemplo df\">\n",
    "</p>"
   ]
  },
  {
   "cell_type": "markdown",
   "metadata": {},
   "source": [
    "Cada uno de los distintos pasos para obtener los archivos '.csv' se ha realizado en [CrearData](CrearData.ipynb) mediante el siguiente código:"
   ]
  },
  {
   "cell_type": "code",
   "execution_count": null,
   "metadata": {},
   "outputs": [],
   "source": [
    "for key,value in links.items(): #Donde link es un diccionario que contiene como key el nombre del equipo y value el link a la página\n",
    "    df=crear_df(get_soup(value))\n",
    "    df.to_csv('./Data/'+key+'.csv', index=False)"
   ]
  },
  {
   "cell_type": "markdown",
   "metadata": {},
   "source": [
    "Ahora, en ese mismo archivo, se hace la limpieza de los datos del archivo que contiene los datos de los partidos: [SP1](/Data/SP1.csv) ya que los nombres de los equipos no coinciden con los nombres de los equipos que hemos utilizado para crear los archivos '.csv' de las platillas. Además, se eliminan las columnas que no son de interes y guardamos el nuevo DataFrame en el archivo [0.Partidos](/Data/0.Partidos.csv)."
   ]
  },
  {
   "cell_type": "markdown",
   "metadata": {},
   "source": [
    "El siguiente paso es crear un último archivo '.csv' que contenga la tabla de clasificación de LaLiga con algunos datos de interes. Para ello, se han utilizado las siguientes funciones de [herlpers](helpers.py):"
   ]
  },
  {
   "cell_type": "code",
   "execution_count": null,
   "metadata": {},
   "outputs": [],
   "source": [
    "def data_equipo(df,equipo):\n",
    "    '''Dado un data frame con datos de partidos de futbol, devuelve un dataframe especifico de\n",
    "    los datos de un equipo concreto'''\n",
    "    partidos_equipo=df[(df['HomeTeam'] == equipo) | (df['AwayTeam'] == equipo)]\n",
    "    return partidos_equipo"
   ]
  },
  {
   "cell_type": "code",
   "execution_count": null,
   "metadata": {},
   "outputs": [],
   "source": [
    "def victorias(df_equipo,equipo):\n",
    "     '''Dado un data frame con los datos de los partidos de un equipo, devuelve el número de victorias de ese equipo'''\n",
    "     return len(df_equipo[(df_equipo['HomeTeam'] == equipo) & (df_equipo['FTR'] == 'H')]) + len(df_equipo[(df_equipo['AwayTeam'] == equipo) & (df_equipo['FTR'] == 'A')])"
   ]
  },
  {
   "cell_type": "code",
   "execution_count": null,
   "metadata": {},
   "outputs": [],
   "source": [
    "def empates(df_equipo,equipo):\n",
    "    '''Dado un data frame con los datos de los partidos de un equipo, devuelve el número de empates de ese equipo'''\n",
    "    return len(df_equipo[(df_equipo['HomeTeam'] == equipo) & (df_equipo['FTR'] == 'D')]) + len(df_equipo[(df_equipo['AwayTeam'] == equipo) & (df_equipo['FTR'] == 'D')])"
   ]
  },
  {
   "cell_type": "code",
   "execution_count": null,
   "metadata": {},
   "outputs": [],
   "source": [
    "def derrotas(df_equipo,equipo):\n",
    "    '''Dado un data frame con los datos de los partidos de un equipo, devuelve el número de derrotas de ese equipo'''\n",
    "    return len(df_equipo[(df_equipo['HomeTeam'] == equipo) & (df_equipo['FTR'] == 'A')]) + len(df_equipo[(df_equipo['AwayTeam'] == equipo) & (df_equipo['FTR'] == 'H')])"
   ]
  },
  {
   "cell_type": "code",
   "execution_count": null,
   "metadata": {},
   "outputs": [],
   "source": [
    "def goles_marcados(df_equipo,equipo):\n",
    "    '''Devuelve el número de goles que ha marcado el equipo en la temporada'''\n",
    "    return df_equipo[df_equipo['HomeTeam'] == equipo]['FTHG'].sum() + df_equipo[df_equipo['AwayTeam'] == equipo]['FTAG'].sum()"
   ]
  },
  {
   "cell_type": "code",
   "execution_count": null,
   "metadata": {},
   "outputs": [],
   "source": [
    "def goles_en_contra(df_equipo,equipo):\n",
    "    '''Devuelve el número de goles que le han marcado al equipo en la temporada'''\n",
    "    return df_equipo[df_equipo['HomeTeam'] == equipo]['FTAG'].sum() + df_equipo[df_equipo['AwayTeam'] == equipo]['FTHG'].sum()\n",
    "    "
   ]
  },
  {
   "cell_type": "markdown",
   "metadata": {},
   "source": [
    "Las siguientes dos funciones se utilizan más adelante:"
   ]
  },
  {
   "cell_type": "code",
   "execution_count": null,
   "metadata": {},
   "outputs": [],
   "source": [
    "def data_local(df_equipo,equipo):\n",
    "    '''Devuelve un DataFrame con los partidos que ha jugado de Local un equipo '''\n",
    "    df_local=df_equipo[df_equipo['HomeTeam']==equipo]\n",
    "    return df_local"
   ]
  },
  {
   "cell_type": "code",
   "execution_count": null,
   "metadata": {},
   "outputs": [],
   "source": [
    "def data_visitante(df_equipo,equipo):\n",
    "    '''Devuelve un DataFrame con los partidos que ha jugado de Visitante un equipo '''\n",
    "    df_visitante=df_equipo[df_equipo['AwayTeam']==equipo]\n",
    "    return  df_visitante"
   ]
  },
  {
   "cell_type": "markdown",
   "metadata": {},
   "source": [
    "Con estas nuevas funciones, de nuevo en el archivo [CrearData](CrearData.ipynb) se crea la tabla en un DataFrame:"
   ]
  },
  {
   "cell_type": "code",
   "execution_count": null,
   "metadata": {},
   "outputs": [],
   "source": [
    "# Está ordenada en función de la posición final de cada equipo\n",
    "lista_equipos=['FC Barcelona',\n",
    " 'Real Madrid',\n",
    " 'Atlético de Madrid',\n",
    " 'Real Sociedad',\n",
    " 'Villarreal CF',\n",
    " 'Real Betis',\n",
    " 'Osasuna',\n",
    " 'Athletic Club',\n",
    " 'RCD Mallorca',\n",
    " 'Girona FC',\n",
    " 'Sevilla FC',\n",
    " 'Rayo Vallecano',\n",
    " 'Celta de Vigo',\n",
    " 'Valencia CF',\n",
    " 'Getafe CF',\n",
    " 'Cadiz CF',\n",
    " 'UD Almería',\n",
    " 'Real Valladolid',\n",
    " 'RCD Espanyol',\n",
    " 'Elche CF']"
   ]
  },
  {
   "cell_type": "code",
   "execution_count": null,
   "metadata": {},
   "outputs": [],
   "source": [
    "d={'Equipo': lista_equipos,\n",
    "    'V' : [victorias(data_equipo(df_partidos,equipo),equipo) for equipo in lista_equipos],\n",
    "    'E' : [empates(data_equipo(df_partidos,equipo),equipo) for equipo in lista_equipos],\n",
    "    'D' : [derrotas(data_equipo(df_partidos,equipo),equipo) for equipo in lista_equipos],\n",
    "    'Goles a favor': [goles_marcados(data_equipo(df_partidos,equipo),equipo) for equipo in lista_equipos],\n",
    "    'Goles en contra': [goles_en_contra(data_equipo(df_partidos,equipo),equipo) for equipo in lista_equipos]\n",
    "}\n",
    "df_clasi=pd.DataFrame(d)"
   ]
  },
  {
   "cell_type": "code",
   "execution_count": null,
   "metadata": {},
   "outputs": [],
   "source": [
    "# Añadimos los puntos de los equipos:\n",
    "puntos=3*df_clasi['V'] + df_clasi['E']\n",
    "df_clasi['Puntos']=puntos\n",
    "df_clasi\n"
   ]
  },
  {
   "cell_type": "markdown",
   "metadata": {},
   "source": [
    "Finalmente guardamos la tabla en [1.Clasificacion](/Data/1.Clasificacion.csv)."
   ]
  },
  {
   "cell_type": "code",
   "execution_count": null,
   "metadata": {},
   "outputs": [],
   "source": [
    "df_clasi.to_csv('./Data/1.Clasificacion.csv', index=False)"
   ]
  },
  {
   "cell_type": "markdown",
   "metadata": {},
   "source": [
    "La tabla resultante es:"
   ]
  },
  {
   "cell_type": "markdown",
   "metadata": {},
   "source": [
    "<p align=\"center\">\n",
    "  <img src=\"img\\tabla_clasificacion.png\" alt=\"Tabla Clasificacion\">\n",
    "</p>"
   ]
  },
  {
   "cell_type": "markdown",
   "metadata": {},
   "source": [
    "#### Resultados de los equipos:"
   ]
  },
  {
   "cell_type": "markdown",
   "metadata": {},
   "source": [
    "En [nb_clasificacion](nb_clasificacion.ipynb) se han realizado distintas técnicas para la obtención de datos acerca de la clasificación final de los jugadores. En la primera parte del Notebook, se calculan las series temporales con los resultados de cada uno de los equipos donde se ha ponderado una victoria como +1, 0 como empate y -1 para las derrotas. Estos datos se encuentran en la carpeta *Serie Temporal*. Los resultados son los siguientes en orden de la clasificación final:"
   ]
  },
  {
   "cell_type": "markdown",
   "metadata": {},
   "source": [
    "Para los 4 lideres de la tabla tenemos:"
   ]
  },
  {
   "cell_type": "markdown",
   "metadata": {},
   "source": [
    "<p align=\"center\">\n",
    "  <img src=\"Serie Temporal\\FC Barcelona.png\" alt=\"Tabla Clasificacion\">\n",
    "  <img src=\"Serie Temporal\\Real Madrid.png\" alt=\"Tabla Clasificacion\">\n",
    "  <img src=\"Serie Temporal\\Atlético de Madrid.png\" alt=\"Tabla Clasificacion\">\n",
    "  <img src=\"Serie Temporal\\Real Sociedad.png\" alt=\"Tabla Clasificacion\">\n",
    "</p>"
   ]
  },
  {
   "cell_type": "markdown",
   "metadata": {},
   "source": [
    "Para los 4 últimos de la tabla tenemos:"
   ]
  },
  {
   "cell_type": "markdown",
   "metadata": {},
   "source": [
    "<p align=\"center\">\n",
    "  <img src=\"Serie Temporal\\UD Almería.png\" alt=\"Tabla Clasificacion\">\n",
    "  <img src=\"Serie Temporal\\Real Valladolid.png\" alt=\"Tabla Clasificacion\">\n",
    "  <img src=\"Serie Temporal\\RCD Espanyol.png\" alt=\"Tabla Clasificacion\">\n",
    "  <img src=\"Serie Temporal\\Elche CF.png\" alt=\"Tabla Clasificacion\">\n",
    "</p>"
   ]
  },
  {
   "cell_type": "markdown",
   "metadata": {},
   "source": [
    "Podemos comprobar que los lideres mantinen la racha de victorias de forma regular mientras que los ultimos de la liga son más inconsistentes y no suelen tener más de dos victorias consecutivas."
   ]
  },
  {
   "cell_type": "markdown",
   "metadata": {},
   "source": [
    "Si analizamos a los equipos de media tabla tenemos lo siguiente:"
   ]
  },
  {
   "cell_type": "markdown",
   "metadata": {},
   "source": [
    "<p align=\"center\">\n",
    "  <img src=\"Serie Temporal\\RCD Mallorca.png\" alt=\"Tabla Clasificacion\">\n",
    "  <img src=\"Serie Temporal\\Girona FC.png\" alt=\"Tabla Clasificacion\">\n",
    "  <img src=\"Serie Temporal\\Sevilla FC.png\" alt=\"Tabla Clasificacion\">\n",
    "</p>"
   ]
  },
  {
   "cell_type": "markdown",
   "metadata": {},
   "source": [
    "Estos equipos tienen mayor frecuencia de victorias que los de la tabla baja (como era de esperar) pero podemos seguir viendo que no existe una evidencia de que una vez un equipo ha conseguido una victoria, la mantenga para el siguiente partido. Sin embargo, podemos observar que estos equipos, a diferencia de los de la tabla baja, tienen menos empates y oscilan entre victorias y derrotas."
   ]
  },
  {
   "cell_type": "markdown",
   "metadata": {},
   "source": [
    "A continuación, en ese mismo notebook, se obtienen los datos relativos a cada equipo acerca de los tiros, tiros a puerta, goles (de local y visitante) y distintos ratios entre tiros por gol de cada equipo. Para ello, se utiliza de nuevo [0.Partidos](/Data/0.Partidos.csv)."
   ]
  },
  {
   "cell_type": "markdown",
   "metadata": {},
   "source": [
    "Se ha utilizado el siguiente código:"
   ]
  },
  {
   "cell_type": "code",
   "execution_count": null,
   "metadata": {},
   "outputs": [],
   "source": [
    "d_goles_tiros=dict() #diccionario que guardará como key los equipos y como value el numero de partidos en los que han metido un gol por cada 2 tiros a puerta\n",
    "d_goles_tiros_total=dict() #diccionario que guardará como key los equipos y como value el numero de partidos en los que han metido un gol por cada 4 tiros\n",
    "d_tiros=dict() #diccionario que guardará como key los equipos y como value el numero de tiros \n",
    "d_tiros_a_puerta=dict() #diccionario que guardará como key los equipos y como value el numero de tiros a puerta\n",
    "d_goles=dict() #diccionario que guardará como key los equipos y como value el numero de goles \n",
    "for equipo in df_partidos['HomeTeam'].unique():\n",
    "    df_equipo=data_equipo(df_partidos,equipo) #Creamos el dataframe del equipo\n",
    "    df_local=data_local(df_equipo,equipo)           #Creamos el dataframe del equipo cuando juega de local\n",
    "    df_visitante=data_visitante(df_equipo,equipo)   #Creamos el dataframe del equipo cuando juega de visitante\n",
    "    df_equipo=df_equipo.reset_index()\n",
    "    df_local=df_local.reset_index()\n",
    "    df_visitante=df_visitante.reset_index()\n",
    "    #creamos una nueva columna con los tiros a puerta, tiros totales del equipo en cada partido y goles que ha metido el equipo en cada partido.\n",
    "    df_equipo['tiros_a_puerta_equipo']=np.array(range(len(df_equipo)))\n",
    "    df_equipo['tiros_equipo']=np.array(range(len(df_equipo)))\n",
    "    df_equipo['goles_equipo']=np.array(range(len(df_equipo)))\n",
    "    for i, date in enumerate(df_equipo['Date']):\n",
    "            if date in df_local['Date'].values:\n",
    "                k = np.where(df_local['Date'].values == date)[0][0]\n",
    "                df_equipo.at[i, 'tiros_a_puerta_equipo'] = df_local.at[k, 'HST']\n",
    "                df_equipo.at[i, 'tiros_equipo'] = df_local.at[k, 'HS']\n",
    "                df_equipo.at[i, 'goles_equipo'] = df_local.at[k, 'FTHG']\n",
    "            else:\n",
    "                k = np.where(df_visitante['Date'].values == date)[0][0]\n",
    "                df_equipo.at[i, 'tiros_a_puerta_equipo'] = df_visitante.at[k, 'AST']\n",
    "                df_equipo.at[i, 'tiros_equipo'] = df_visitante.at[k, 'AS']  \n",
    "                df_equipo.at[i, 'goles_equipo'] = df_visitante.at[k, 'FTAG']\n",
    "    d_goles[equipo]=sum(df_equipo['goles_equipo'])\n",
    "    d_tiros[equipo]=sum(df_equipo['tiros_equipo'])\n",
    "    d_tiros_a_puerta[equipo]=sum(df_equipo['tiros_a_puerta_equipo'])\n",
    "    ratio_tiros=df_equipo['tiros_a_puerta_equipo']/df_equipo['tiros_equipo']\n",
    "    df_equipo['ratio_tiros']=ratio_tiros\n",
    "    goles_por_tiro=df_equipo['goles_equipo']/df_equipo['tiros_equipo']\n",
    "    df_equipo['goles_por_tiro']=goles_por_tiro\n",
    "    goles_por_tiro_a_puerta=df_equipo['goles_equipo']/df_equipo['tiros_a_puerta_equipo']\n",
    "    df_equipo['goles_por_tiro_a_puerta']=goles_por_tiro_a_puerta\n",
    "    d_goles_tiros[equipo]=len(df_equipo[df_equipo['goles_por_tiro_a_puerta']>=0.5])\n",
    "    d_goles_tiros_total[equipo]=len(df_equipo[df_equipo['goles_por_tiro']>=0.25])"
   ]
  },
  {
   "cell_type": "code",
   "execution_count": null,
   "metadata": {},
   "outputs": [],
   "source": [
    "#Creamos unas lista de tuplas con los diccionarios obtenidos\n",
    "l_goles_tiros=list(d_goles_tiros.items())\n",
    "l_goles_tiros_total=list(d_goles_tiros_total.items())\n",
    "l_tiros=list(d_tiros.items())\n",
    "l_tiros_a_puerta=list(d_tiros_a_puerta.items())\n",
    "l_goles=list(d_goles.items())\n",
    "#Los ordenamos de forma que sigan el mismo orden que la clasificación de la liga\n",
    "l_goles_tiros = sorted(l_goles_tiros, key=lambda x: list(df_clasi['Equipo']).index(x[0]))\n",
    "l_goles_tiros_total = sorted(l_goles_tiros_total, key=lambda x: list(df_clasi['Equipo']).index(x[0]))\n",
    "l_tiros = sorted(l_tiros, key=lambda x: list(df_clasi['Equipo']).index(x[0]))\n",
    "l_tiros_a_puerta = sorted(l_tiros_a_puerta, key=lambda x: list(df_clasi['Equipo']).index(x[0]))\n",
    "l_goles = sorted(l_goles, key=lambda x: list(df_clasi['Equipo']).index(x[0]))"
   ]
  },
  {
   "cell_type": "code",
   "execution_count": null,
   "metadata": {},
   "outputs": [],
   "source": [
    "sns.set(style=\"whitegrid\")\n",
    "plt.figure(figsize=(20, 6))\n",
    "sns.barplot(x=df_clasi['Equipo'], y=[tp[1] for tp in l_goles_tiros], color='skyblue')\n",
    "plt.xlabel('Equipos', fontsize=14)\n",
    "plt.ylabel('Total', fontsize=14)\n",
    "plt.title('Número de veces que un equipo mete un gol por cada 2 tiros a puerta realizados', fontsize=16)\n",
    "plt.xticks(rotation=45, fontsize=12)\n",
    "plt.yticks(fontsize=12)\n",
    "ubicaciones, etiquetas = plt.xticks()\n",
    "c=0\n",
    "for i in [tp[1] for tp in l_goles_tiros]:\n",
    "    plt.text(ubicaciones[c], i + 0.2, str(i), ha='center', va='bottom')\n",
    "    c+=1\n",
    "plt.show()"
   ]
  },
  {
   "cell_type": "markdown",
   "metadata": {},
   "source": [
    "<p align=\"center\">\n",
    "  <img src=\"Diagramas de barras\\Goles por tiros a puerta.png\" alt=\"Goles/Tiros a puerta\">\n",
    "</p>"
   ]
  },
  {
   "cell_type": "markdown",
   "metadata": {},
   "source": [
    "Podemos ver en general todos los equipos tiene una buena calificación en este apartado, sin embargo, veremos como esto a medida que vamos acotando los datos va a ser más dispar."
   ]
  },
  {
   "cell_type": "code",
   "execution_count": null,
   "metadata": {},
   "outputs": [],
   "source": [
    "sns.set(style=\"whitegrid\")\n",
    "plt.figure(figsize=(20, 6))\n",
    "sns.barplot(x=df_clasi['Equipo'], y=[tp[1] for tp in l_goles_tiros_total], color='skyblue')\n",
    "plt.xlabel('Equipos', fontsize=14)\n",
    "plt.ylabel('Total', fontsize=14)\n",
    "plt.title('Número de veces que un equipo mete un gol por cada 4 tiros realizados', fontsize=16)\n",
    "plt.xticks(rotation=45, fontsize=12)\n",
    "plt.yticks(fontsize=12)\n",
    "ubicaciones, etiquetas = plt.xticks()\n",
    "c=0\n",
    "for i in [tp[1] for tp in l_goles_tiros_total]:\n",
    "    plt.text(ubicaciones[c], i + 0.05, str(i), ha='center', va='bottom')\n",
    "    c+=1\n",
    "plt.show()"
   ]
  },
  {
   "cell_type": "markdown",
   "metadata": {},
   "source": [
    "<p align=\"center\">\n",
    "  <img src=\"Diagramas de barras\\Goles por tiros.png\" alt=\"Goles/Tiros\">\n",
    "</p>"
   ]
  },
  {
   "cell_type": "markdown",
   "metadata": {},
   "source": [
    "En este caso, podemos comprobar como los de la tabla alta tiene una mejor calidad de tiro respecto a los demás ya que tienen hasta el doble de goles por cada 4 tiros realizados que los de la tabla baja. Podemos concluir que efectivamente, tienen una mayor efectividad de tiro/gol."
   ]
  },
  {
   "cell_type": "markdown",
   "metadata": {},
   "source": [
    "Además, ahora comprobaremos que los equipos con mejor ratio de tiro/gol tienen además una mayor cantidad de tiros realizados y por lo tanto mayor numero de goles:"
   ]
  },
  {
   "cell_type": "code",
   "execution_count": null,
   "metadata": {},
   "outputs": [],
   "source": [
    "sns.set(style=\"whitegrid\")\n",
    "plt.figure(figsize=(20, 6))\n",
    "sns.barplot(x=df_clasi['Equipo'], y=[tp[1] for tp in l_tiros], color='skyblue')\n",
    "plt.xlabel('Equipos', fontsize=14)\n",
    "plt.ylabel('Total', fontsize=14)\n",
    "plt.title('Tiros totales realizados por cada equipo', fontsize=16)\n",
    "plt.xticks(rotation=45, fontsize=12)\n",
    "plt.yticks(fontsize=12)\n",
    "ubicaciones, etiquetas = plt.xticks()\n",
    "c=0\n",
    "for i in [tp[1] for tp in l_tiros]:\n",
    "    plt.text(ubicaciones[c], i + 0.2, str(i), ha='center', va='bottom')\n",
    "    c+=1\n",
    "plt.show()"
   ]
  },
  {
   "cell_type": "markdown",
   "metadata": {},
   "source": [
    "<p align=\"center\">\n",
    "  <img src=\"Diagramas de barras\\Tiros.png\" alt=\"Tiros\">\n",
    "</p>"
   ]
  },
  {
   "cell_type": "code",
   "execution_count": null,
   "metadata": {},
   "outputs": [],
   "source": [
    "sns.set(style=\"whitegrid\")\n",
    "plt.figure(figsize=(20, 6))\n",
    "sns.barplot(x=df_clasi['Equipo'], y=[tp[1] for tp in l_tiros_a_puerta], color='skyblue')\n",
    "plt.xlabel('Equipos', fontsize=14)\n",
    "plt.ylabel('Total', fontsize=14)\n",
    "plt.title('Tiros a puerta totales realizados por cada equipo', fontsize=16)\n",
    "plt.xticks(rotation=45, fontsize=12)\n",
    "plt.yticks(fontsize=12)\n",
    "ubicaciones, etiquetas = plt.xticks()\n",
    "c=0\n",
    "for i in [tp[1] for tp in l_tiros_a_puerta]:\n",
    "    plt.text(ubicaciones[c], i + 0.2, str(i), ha='center', va='bottom')\n",
    "    c+=1\n",
    "plt.show()"
   ]
  },
  {
   "cell_type": "markdown",
   "metadata": {},
   "source": [
    "<p align=\"center\">\n",
    "  <img src=\"Diagramas de barras\\Tiros a puerta.png\" alt=\"Tiros a puerta\">\n",
    "</p>"
   ]
  },
  {
   "cell_type": "markdown",
   "metadata": {},
   "source": [
    "Por lo tanto, como era de esperar, los equipos de la tabla alta tienen una mayor cantidad de goles:"
   ]
  },
  {
   "cell_type": "code",
   "execution_count": null,
   "metadata": {},
   "outputs": [],
   "source": [
    "sns.set(style=\"whitegrid\")\n",
    "plt.figure(figsize=(20, 6))\n",
    "sns.barplot(x=df_clasi['Equipo'], y=[tp[1] for tp in l_goles], color='skyblue')\n",
    "plt.xlabel('Equipos', fontsize=14)\n",
    "plt.ylabel('Total', fontsize=14)\n",
    "plt.title('Goles por cada equipo', fontsize=16)\n",
    "plt.xticks(rotation=45, fontsize=12)\n",
    "plt.yticks(fontsize=12)\n",
    "ubicaciones, etiquetas = plt.xticks()\n",
    "c=0\n",
    "for i in [tp[1] for tp in l_goles]:\n",
    "    plt.text(ubicaciones[c], i + 0.2, str(i), ha='center', va='bottom')\n",
    "    c+=1\n",
    "plt.show()"
   ]
  },
  {
   "cell_type": "markdown",
   "metadata": {},
   "source": [
    "<p align=\"center\">\n",
    "  <img src=\"Diagramas de barras\\Goles.png\" alt=\"Goles\">\n",
    "</p>"
   ]
  },
  {
   "cell_type": "markdown",
   "metadata": {},
   "source": [
    "Y como era de esperar, los equipos que estan por debajo de la tabla reciben más goles:"
   ]
  },
  {
   "cell_type": "code",
   "execution_count": null,
   "metadata": {},
   "outputs": [],
   "source": [
    "sns.set(style=\"whitegrid\")\n",
    "plt.figure(figsize=(20, 6))\n",
    "sns.barplot(x=df_clasi['Equipo'], y=df_clasi['Goles en contra'], color='skyblue')\n",
    "plt.xlabel('Equipos', fontsize=14)\n",
    "plt.ylabel('Total', fontsize=14)\n",
    "plt.title('Goles en contra por cada equipo', fontsize=16)\n",
    "plt.xticks(rotation=45, fontsize=12)\n",
    "plt.yticks(fontsize=12)\n",
    "ubicaciones, etiquetas = plt.xticks()\n",
    "c=0\n",
    "for i in df_clasi['Goles en contra']:\n",
    "    plt.text(ubicaciones[c], i + 0.2, str(i), ha='center', va='bottom')\n",
    "    c+=1\n",
    "plt.show()"
   ]
  },
  {
   "cell_type": "markdown",
   "metadata": {},
   "source": [
    "<p align=\"center\">\n",
    "  <img src=\"Diagramas de barras\\goles en contra.png\" alt=\"Goles\">\n",
    "</p>"
   ]
  },
  {
   "cell_type": "markdown",
   "metadata": {},
   "source": [
    "Sin embargo, existe un factor que hace que un equipo tenga mayor oportunidad de marcar en un partido concreto: si juega de local o no."
   ]
  },
  {
   "cell_type": "markdown",
   "metadata": {},
   "source": [
    "Podemos comprobarlo en los siguientes diagramas:"
   ]
  },
  {
   "cell_type": "code",
   "execution_count": null,
   "metadata": {},
   "outputs": [],
   "source": [
    "#Goles como equipo local y como visitante\n",
    "goles_local=[]\n",
    "goles_visitante=[]\n",
    "for equipo in df_clasi['Equipo']:\n",
    "    df_equipo=data_equipo(df_partidos,equipo)\n",
    "    df_local=data_local(df_equipo,equipo)\n",
    "    df_visitante=data_visitante(df_equipo,equipo)\n",
    "    goles_local.append(sum(df_local['FTHG']))\n",
    "    goles_visitante.append(sum(df_visitante['FTAG']))\n",
    "\n",
    "sns.set(style=\"whitegrid\")\n",
    "plt.figure(figsize=(20, 6))\n",
    "sns.barplot(x=df_clasi['Equipo'], y=goles_local, color='skyblue',label='Goles Local')\n",
    "sns.barplot(x=df_clasi['Equipo'], y=goles_visitante, color='orange',label='Goles Visitante')\n",
    "plt.xlabel('Equipos', fontsize=14)\n",
    "plt.ylabel('Total', fontsize=14)\n",
    "plt.title('Goles a favor', fontsize=16)\n",
    "plt.xticks(rotation=45, fontsize=12)\n",
    "plt.yticks(fontsize=12)\n",
    "plt.legend()\n",
    "plt.show()"
   ]
  },
  {
   "cell_type": "markdown",
   "metadata": {},
   "source": [
    "<p align=\"center\">\n",
    "  <img src=\"Diagramas de barras\\Goles separados.png\" alt=\"Goles\">\n",
    "</p>"
   ]
  },
  {
   "cell_type": "markdown",
   "metadata": {},
   "source": [
    "Además, este mismo factor también influye en los goles que recibe el equipo en un mismo partido:"
   ]
  },
  {
   "cell_type": "code",
   "execution_count": null,
   "metadata": {},
   "outputs": [],
   "source": [
    "#Goles como equipo local y como visitante\n",
    "goles_contra_local=[]\n",
    "goles_contra_visitante=[]\n",
    "for equipo in df_clasi['Equipo']:\n",
    "    df_equipo=data_equipo(df_partidos,equipo)\n",
    "    df_local=data_local(df_equipo,equipo)\n",
    "    df_visitante=data_visitante(df_equipo,equipo)\n",
    "    goles_contra_local.append(sum(df_local['FTAG']))\n",
    "    goles_contra_visitante.append(sum(df_visitante['FTHG']))\n",
    "\n",
    "sns.set(style=\"whitegrid\")\n",
    "plt.figure(figsize=(20, 6))\n",
    "sns.barplot(x=df_clasi['Equipo'], y=goles_contra_visitante, color='orange',label='Goles en Contra de Visitante')\n",
    "sns.barplot(x=df_clasi['Equipo'], y=goles_contra_local, color='skyblue',label='Goles en Contra de Local')\n",
    "\n",
    "plt.xlabel('Equipos', fontsize=14)\n",
    "plt.ylabel('Total', fontsize=14)\n",
    "plt.title('Goles en contra', fontsize=16)\n",
    "plt.xticks(rotation=45, fontsize=12)\n",
    "plt.yticks(fontsize=12)\n",
    "plt.legend()\n",
    "plt.show()"
   ]
  },
  {
   "cell_type": "markdown",
   "metadata": {},
   "source": [
    "<p align=\"center\">\n",
    "  <img src=\"Diagramas de barras\\Goles en contra separados.png\" alt=\"Goles\">\n",
    "</p>"
   ]
  },
  {
   "cell_type": "markdown",
   "metadata": {},
   "source": [
    "Por lo tanto, podemos concluir que un equipo cuando juega de local es más probable que reciba menos goles y más probable que marque más y si es de visitante, al reves. Por lo que es de esperar que un equipo tenga mayor número de victorias de local que de visitante."
   ]
  },
  {
   "cell_type": "markdown",
   "metadata": {},
   "source": [
    "Para comprobarlo, debemos ir a [nb_partidos](nb_partidos.ipynb) donde hacemos la comprobación para cada uno de los equipos de la liga. Cada uno de los diagramas se encuentra en *Histograma Resultados*."
   ]
  },
  {
   "cell_type": "code",
   "execution_count": null,
   "metadata": {},
   "outputs": [],
   "source": [
    "#Cargamos el fichero de los partidos de 22/23\n",
    "df = pd.read_csv('./Data/0.Partidos.csv')\n",
    "df.head()"
   ]
  },
  {
   "cell_type": "code",
   "execution_count": null,
   "metadata": {},
   "outputs": [],
   "source": [
    "#Obtenemos una lista con todos los nombres de los equipos\n",
    "lista_equipos=df['HomeTeam'].unique()\n",
    "lista_equipos"
   ]
  },
  {
   "cell_type": "code",
   "execution_count": null,
   "metadata": {},
   "outputs": [],
   "source": [
    "for equipo in lista_equipos:\n",
    "    plt.figure();\n",
    "    df_equipo=data_equipo(df,equipo)\n",
    "    datos_local=data_local(df_equipo,equipo)\n",
    "    datos_visitante=data_visitante(df_equipo,equipo)\n",
    "    sns.histplot(datos_local['FTR'],alpha=0.5, label='Local');\n",
    "    sns.histplot(datos_visitante['FTR'],alpha=0.5, label='Visitante');\n",
    "    plt.legend();\n",
    "    plt.title('Resultados ' + equipo);\n",
    "    plt.xlabel('Resultado')\n",
    "    plt.ylabel('Cantidad')\n",
    "    plt.savefig('./Histograma Resultados/'+ equipo+'.png');"
   ]
  },
  {
   "cell_type": "markdown",
   "metadata": {},
   "source": [
    "De forma resumida, podemos comprobar que para los primeros de la clasificación pomdeos obtener los siguientes diagramas:"
   ]
  },
  {
   "cell_type": "markdown",
   "metadata": {},
   "source": [
    "<p align=\"center\">\n",
    "  <img src=\"Histograma Resultados\\FC Barcelona.png\" alt=\"hist\">\n",
    "  <img src=\"Histograma Resultados\\Real Madrid.png\" alt=\"hist\">\n",
    "  <img src=\"Histograma Resultados\\Atlético de Madrid.png\" alt=\"hist\">\n",
    "  <img src=\"Histograma Resultados\\Real Sociedad.png\" alt=\"hist\">\n",
    "</p>"
   ]
  },
  {
   "cell_type": "markdown",
   "metadata": {},
   "source": [
    "Para los ultimos de la tabla:"
   ]
  },
  {
   "cell_type": "markdown",
   "metadata": {},
   "source": [
    "<p align=\"center\">\n",
    "  <img src=\"Histograma Resultados\\UD Almería.png\" alt=\"Tabla Clasificacion\">\n",
    "  <img src=\"Histograma Resultados\\Real Valladolid.png\" alt=\"Tabla Clasificacion\">\n",
    "  <img src=\"Histograma Resultados\\RCD Espanyol.png\" alt=\"Tabla Clasificacion\">\n",
    "  <img src=\"Histograma Resultados\\Elche CF.png\" alt=\"Tabla Clasificacion\">\n",
    "</p>"
   ]
  },
  {
   "cell_type": "markdown",
   "metadata": {},
   "source": [
    "En todos los casos se comprueba que es más probable que gane que cuando un equipo juega de local que cuando juega de visitante."
   ]
  },
  {
   "cell_type": "markdown",
   "metadata": {},
   "source": [
    "¿Existe algún factor que también influya en la victoria de un equipo? Para ver si podemos responder a esta pregunta, vamos a analizar la hora a la que se jugan los partidos y comprobar si existe algún en las victorias de un equipo. Para ello, continuamos en [nb_partidos](nb_partidos.ipynb):"
   ]
  },
  {
   "cell_type": "markdown",
   "metadata": {},
   "source": [
    "En esta parte, catalogaremos los partidos en función de su hora de empiece: hasta las 12:59 como 'Mañana', de 13:00 a 15:59 como 'Mediodia', de 16:00 a 19:00 como 'Tarde' y el resto como 'Noche'."
   ]
  },
  {
   "cell_type": "code",
   "execution_count": null,
   "metadata": {},
   "outputs": [],
   "source": [
    "df_partidos = pd.read_csv('./Data/0.Partidos.csv')\n",
    "df_clasi = pd.read_csv('./Data/1.Clasificacion.csv')"
   ]
  },
  {
   "cell_type": "code",
   "execution_count": null,
   "metadata": {},
   "outputs": [],
   "source": [
    "df_partidos['Horas Decimal']=np.array(range(len(df_partidos)))\n",
    "c=0\n",
    "for i in df_partidos['Time']:\n",
    "    horas, minutos = i.split(':')\n",
    "    df_partidos.at[c,'Horas Decimal']=int(horas) + int(minutos)/60\n",
    "    c+=1\n",
    "df_partidos\n",
    "intervalos = [0, 13, 16, 19,24]\n",
    "etiquetas = ['Mañana', 'Mediodia', 'Tarde','Noche']\n",
    "df_partidos['Horario'] = pd.cut(df_partidos['Horas Decimal'], bins=intervalos, labels=etiquetas)\n",
    "df_partidos"
   ]
  },
  {
   "cell_type": "code",
   "execution_count": null,
   "metadata": {},
   "outputs": [],
   "source": [
    "l_mañana=[]\n",
    "l_mañana_jugados=[]\n",
    "l_mediodia=[]\n",
    "l_mediodia_jugados=[]\n",
    "l_tarde=[]\n",
    "l_tarde_jugados=[]\n",
    "l_noche=[]\n",
    "l_noche_jugados=[]\n",
    "for equipo in df_clasi['Equipo']:\n",
    "    df_equipo=data_equipo(df_partidos,equipo)\n",
    "    df_equipo_mañana=df_equipo[df_equipo['Horario']=='Mañana']\n",
    "    l_mañana_jugados.append(len(df_equipo_mañana))\n",
    "    if len(df_equipo_mañana)>0:\n",
    "        l_mañana.append(round(victorias(df_equipo_mañana,equipo)/len(df_equipo_mañana),2))  \n",
    "    else:\n",
    "        l_mañana.append(0)\n",
    "    df_equipo_mediodia=df_equipo[df_equipo['Horario']=='Mediodia']\n",
    "    l_mediodia_jugados.append(len(df_equipo_mediodia))\n",
    "    if len(df_equipo_mediodia)>0:\n",
    "        l_mediodia.append(round(victorias(df_equipo_mediodia,equipo)/len(df_equipo_mediodia),2))\n",
    "    else:\n",
    "        l_mediodia.append(0)\n",
    "    l_tarde_jugados.append(len(df_equipo_tarde))\n",
    "    df_equipo_tarde=df_equipo[df_equipo['Horario']=='Tarde']\n",
    "    if len(df_equipo_tarde)>0:\n",
    "        l_tarde.append(round(victorias(df_equipo_tarde,equipo)/len(df_equipo_tarde),2))\n",
    "    else:\n",
    "        l_tarde.append(0)\n",
    "    l_noche_jugados.append(len(df_equipo_noche))\n",
    "    df_equipo_noche=df_equipo[df_equipo['Horario']=='Noche']\n",
    "    if len(df_equipo_noche)>0:\n",
    "        l_noche.append(round(victorias(df_equipo_noche,equipo)/len(df_equipo_noche),2))\n",
    "    else:\n",
    "        l_noche.append(0)"
   ]
  },
  {
   "cell_type": "code",
   "execution_count": null,
   "metadata": {},
   "outputs": [],
   "source": [
    "#Diagrama de barras mañana\n",
    "equipos_mañana=df_clasi['Equipo']\n",
    "sns.set(style=\"whitegrid\")\n",
    "plt.figure(figsize=(20, 6))\n",
    "sns.barplot(x=equipos_mañana, y=l_mañana, color='skyblue')\n",
    "plt.xlabel('Equipos', fontsize=14)\n",
    "plt.ylabel('Frecuencia Victorias', fontsize=14)\n",
    "plt.title('Frecuencia de victorias partidos a la mañana', fontsize=16)\n",
    "plt.xticks(rotation=45, fontsize=12)\n",
    "plt.yticks(fontsize=12)\n",
    "ubicaciones, etiquetas = plt.xticks()\n",
    "c=0\n",
    "for i in l_mañana:\n",
    "    plt.text(ubicaciones[c], i + 0.01, 'f: '+ str(i), ha='center', va='bottom')\n",
    "    c+=1\n",
    "c=0\n",
    "for i,value in enumerate(l_mañana):\n",
    "    plt.text(ubicaciones[c], value + 0.05, 'jg: '+ str(l_mañana_jugados[i]), ha='center', va='bottom')\n",
    "    c+=1\n",
    "plt.show()"
   ]
  },
  {
   "cell_type": "markdown",
   "metadata": {},
   "source": [
    "<p align=\"center\">\n",
    "  <img src=\"Diagramas de barras\\Partidos a la mañana.png\" alt=\"partidos\">\n",
    "</p>"
   ]
  },
  {
   "cell_type": "code",
   "execution_count": null,
   "metadata": {},
   "outputs": [],
   "source": [
    "#Diagrama de barras mediodia\n",
    "equipos_mediodia=df_clasi['Equipo']\n",
    "sns.set(style=\"whitegrid\")\n",
    "plt.figure(figsize=(20, 6))\n",
    "sns.barplot(x=equipos_mediodia, y=l_mediodia, color='skyblue')\n",
    "plt.xlabel('Equipos', fontsize=14)\n",
    "plt.ylabel('Frecuencia Victorias', fontsize=14)\n",
    "plt.title('Frecuencia de victorias partidos al mediodia', fontsize=16)\n",
    "plt.xticks(rotation=45, fontsize=12)\n",
    "plt.yticks(fontsize=12)\n",
    "ubicaciones, etiquetas = plt.xticks()\n",
    "c=0\n",
    "for i in l_mediodia:\n",
    "    plt.text(ubicaciones[c], i + 0.01, 'f: '+ str(i), ha='center', va='bottom')\n",
    "    c+=1\n",
    "c=0\n",
    "for i,value in enumerate(l_mediodia):\n",
    "    plt.text(ubicaciones[c], value + 0.05, 'jg: '+ str(l_mediodia_jugados[i]), ha='center', va='bottom')\n",
    "    c+=1\n",
    "plt.show()"
   ]
  },
  {
   "cell_type": "markdown",
   "metadata": {},
   "source": [
    "<p align=\"center\">\n",
    "  <img src=\"Diagramas de barras\\Partidos al mediodia.png\" alt=\"partidos\">\n",
    "</p>"
   ]
  },
  {
   "cell_type": "code",
   "execution_count": null,
   "metadata": {},
   "outputs": [],
   "source": [
    "#Diagrama de barras a la tarde\n",
    "equipos_tarde=df_clasi['Equipo']\n",
    "sns.set(style=\"whitegrid\")\n",
    "plt.figure(figsize=(20, 6))\n",
    "sns.barplot(x=equipos_tarde, y=l_tarde, color='skyblue')\n",
    "plt.xlabel('Equipos', fontsize=14)\n",
    "plt.ylabel('Frecuencia Victorias', fontsize=14)\n",
    "plt.title('Frecuencia de victorias partidos a la tarde', fontsize=16)\n",
    "plt.xticks(rotation=45, fontsize=12)\n",
    "plt.yticks(fontsize=12)\n",
    "ubicaciones, etiquetas = plt.xticks()\n",
    "c=0\n",
    "for i in l_tarde:\n",
    "    plt.text(ubicaciones[c], i + 0.01, 'f: '+ str(i), ha='center', va='bottom')\n",
    "    c+=1\n",
    "c=0\n",
    "for i,value in enumerate(l_tarde):\n",
    "    plt.text(ubicaciones[c], value + 0.05, 'jg: '+ str(l_tarde_jugados[i]), ha='center', va='bottom')\n",
    "    c+=1\n",
    "plt.show()"
   ]
  },
  {
   "cell_type": "markdown",
   "metadata": {},
   "source": [
    "<p align=\"center\">\n",
    "  <img src=\"Diagramas de barras\\Partidos a la tarde.png\" alt=\"partidos\">\n",
    "</p>"
   ]
  },
  {
   "cell_type": "code",
   "execution_count": null,
   "metadata": {},
   "outputs": [],
   "source": [
    "#Diagrama de barras noche\n",
    "equipos_noche=df_clasi['Equipo']\n",
    "sns.set(style=\"whitegrid\")\n",
    "plt.figure(figsize=(20, 6))\n",
    "sns.barplot(x=equipos_noche, y=l_noche, color='skyblue')\n",
    "plt.xlabel('Equipos', fontsize=14)\n",
    "plt.ylabel('Frecuencia Victorias', fontsize=14)\n",
    "plt.title('Frecuencia de victorias partidos a la noche', fontsize=16)\n",
    "plt.xticks(rotation=45, fontsize=12)\n",
    "plt.yticks(fontsize=12)\n",
    "ubicaciones, etiquetas = plt.xticks()\n",
    "c=0\n",
    "for i in l_noche:\n",
    "    plt.text(ubicaciones[c], i + 0.01, 'f: '+ str(i), ha='center', va='bottom')\n",
    "    c+=1\n",
    "c=0\n",
    "for i,value in enumerate(l_noche):\n",
    "    plt.text(ubicaciones[c], value + 0.05, 'jg: '+ str(l_noche_jugados[i]), ha='center', va='bottom')\n",
    "    c+=1\n",
    "plt.show()"
   ]
  },
  {
   "cell_type": "markdown",
   "metadata": {},
   "source": [
    "<p align=\"center\">\n",
    "  <img src=\"Diagramas de barras\\Partidos a la noche.png\" alt=\"partidos\">\n",
    "</p>"
   ]
  },
  {
   "cell_type": "markdown",
   "metadata": {},
   "source": [
    "En cada uno de los diagramas aparece la frecuencia de victoria 'fr' y el número de partidos jugados 'jg', además para analizar los resultados en función de la clasificación final, los equipos estan ordenados según esta tabla."
   ]
  },
  {
   "cell_type": "markdown",
   "metadata": {},
   "source": [
    "Podemos sacar las siguientes conclusiones:\n",
    "- Equipos como el Celta de Vigo y el Elche CF no han ganado ni un partido a la mañana.\n",
    "- Rayo Vallecano, Valencia CF y Almeria UD no han ganado ni un partido al mediodía.\n",
    "- A la tarde podemos destacar que el FC Barcelona ha tenido una tasa de victoria del 83% que es muy superior a la de los demás. \n",
    "- Finalmente, a la noche, los equipos que han quedado en la mitad de la tabla para abajo, de nuevo, han ganado como mucho uno de cada 5 partidos jugados, haciendo mención especial al  RCD Español y el Elche CF que no han ganado ni un partido jugando un total de 11 y 9 partidos respectivamente. Sin embargo, los equipos de mitad de tabla hacia arriba tienen una tasa de victorias del 50% en general."
   ]
  },
  {
   "cell_type": "markdown",
   "metadata": {},
   "source": [
    "A continuación se analizará si existe una tendencia de goles para cada equipo. Para ello, volviendo a [nb_clasificacion](nb_clasificacion.ipynb):"
   ]
  },
  {
   "cell_type": "markdown",
   "metadata": {},
   "source": [
    "Mediante el siguiente código, se analizarán sieres temporales con los goles por partido de cada equipo, en verde se ha gráficado la mediana de los goles y en rojo la media."
   ]
  },
  {
   "cell_type": "code",
   "execution_count": null,
   "metadata": {},
   "outputs": [],
   "source": [
    "for equipo in df_partidos['HomeTeam'].unique():\n",
    "    df_equipo=data_equipo(df_partidos,equipo)       #Creamos el dataframe del equipo\n",
    "    df_local=data_local(df_equipo,equipo)           #Creamos el dataframe del equipo cuando juega de local\n",
    "    df_visitante=data_visitante(df_equipo,equipo)   #Creamos el dataframe del equipo cuando juega de visitante\n",
    "    df_equipo=df_equipo.reset_index()\n",
    "    df_local=df_local.reset_index()\n",
    "    df_visitante=df_visitante.reset_index()\n",
    "    #creamos una nueva columna con los tiros a puerta, tiros totales del equipo en cada partido y goles que ha metido el equipo en cada partido.\n",
    "    df_equipo['goles_equipo']=np.array(range(len(df_equipo)))\n",
    "    df_equipo['goles_contra']=np.array(range(len(df_equipo)))\n",
    "    for i, date in enumerate(df_equipo['Date']):\n",
    "            if date in df_local['Date'].values:\n",
    "                k = np.where(df_local['Date'].values == date)[0][0]\n",
    "                df_equipo.at[i, 'goles_equipo'] = df_local.at[k, 'FTHG']\n",
    "                df_equipo.at[i, 'goles_contra'] = df_local.at[k, 'FTAG']\n",
    "            else:\n",
    "                k = np.where(df_visitante['Date'].values == date)[0][0]\n",
    "                df_equipo.at[i, 'goles_equipo'] = df_visitante.at[k, 'FTAG']\n",
    "                df_equipo.at[i, 'goles_contra'] = df_local.at[k, 'FTHG']\n",
    "    #mediana=np.median(df_equipo['goles_equipo'])  \n",
    "    #media=np.mean(df_equipo['goles_equipo'])  \n",
    "    plt.figure(figsize=(45, 6));\n",
    "    sns.set_style(\"whitegrid\");\n",
    "    sns.lineplot(x='Date', y='goles_equipo', data=df_equipo, label='Goles ' + equipo);\n",
    "    sns.lineplot(x='Date', y='goles_contra', data=df_equipo, label='Goles rival');\n",
    "    #plt.axhline(y=media, color='r', linestyle='--', label='Media')\n",
    "    #plt.axhline(y=mediana, color='g', linestyle='--', label='Mediana')\n",
    "    plt.xticks(rotation=45);\n",
    "    plt.xlabel('Fechas');\n",
    "    plt.ylabel('Goles Marcados');\n",
    "    plt.title('Serie temporal de goles del ' + equipo);\n",
    "    plt.legend()\n",
    "    plt.savefig('./Racha goles/'+ equipo+'.png');"
   ]
  },
  {
   "cell_type": "markdown",
   "metadata": {},
   "source": [
    "Para los primeros de la tabla tenemos los siguientes gráficos:"
   ]
  },
  {
   "cell_type": "markdown",
   "metadata": {},
   "source": [
    "<p align=\"center\">\n",
    "  <img src=\"Racha goles\\FC Barcelona.png\" alt=\"hist\">\n",
    "  <img src=\"Racha goles\\Real Madrid.png\" alt=\"hist\">\n",
    "  <img src=\"Racha goles\\Atlético de Madrid.png\" alt=\"hist\">\n",
    "  <img src=\"Racha goles\\Real Sociedad.png\" alt=\"hist\">\n",
    "</p>"
   ]
  },
  {
   "cell_type": "markdown",
   "metadata": {},
   "source": [
    "Podemos ver como el Real Madrid es el equipo que más goles promedia por partido y en general estos equipos tienen una media mayor o igual a 1 gol. En general tiene bastante regularidad en los goles,marcando entre 1 y dos goles. Además, podemos ver que las victorias suelen ser por 1 o dos goles de diferencia, salvo casos más extremos que habría que analizar con más precisión."
   ]
  },
  {
   "cell_type": "markdown",
   "metadata": {},
   "source": [
    "Para los últimos de la tabla tenemos:"
   ]
  },
  {
   "cell_type": "markdown",
   "metadata": {},
   "source": [
    "<p align=\"center\">\n",
    "  <img src=\"Racha goles\\UD Almería.png\" alt=\"Tabla Clasificacion\">\n",
    "  <img src=\"Racha goles\\Real Valladolid.png\" alt=\"Tabla Clasificacion\">\n",
    "  <img src=\"Racha goles\\RCD Espanyol.png\" alt=\"Tabla Clasificacion\">\n",
    "  <img src=\"Racha goles\\Elche CF.png\" alt=\"Tabla Clasificacion\">\n",
    "</p>"
   ]
  },
  {
   "cell_type": "markdown",
   "metadata": {},
   "source": [
    "Podemos comprobar como estos equipos son más irregulares y no suelen mantener una cantidad constante de goles. Es destacable que en estos 4 casos, los partidos que han ganado, lo han hecho metiendo al menos dos goles incluso podemos destacar que en muchas de esas ocasiones son 2 goles más que el equipo rival."
   ]
  },
  {
   "cell_type": "markdown",
   "metadata": {},
   "source": [
    "Para finalizar, comprobaremos varios datos acerca de los clubes para buscar si existen casos extremos que indican mayor rendimiento de la plantilla. Estos casos serán la nacionalidad de los jugadores no Españoles y de los jugadores de la platilla de cada equipo. Para ello, iremos al archivo [nb_equipos](nb_equipos.ipynb)."
   ]
  },
  {
   "cell_type": "markdown",
   "metadata": {},
   "source": [
    "Para analizar las nacionalidades de las plantillas observaremos los datos de las plantillas de los equipos que se encuentran en la carpeta *Data*."
   ]
  },
  {
   "cell_type": "code",
   "execution_count": null,
   "metadata": {},
   "outputs": [],
   "source": [
    "df_clasi = pd.read_csv('./Data/1.Clasificacion.csv')"
   ]
  },
  {
   "cell_type": "code",
   "execution_count": null,
   "metadata": {},
   "outputs": [],
   "source": [
    "for equipo in df_clasi['Equipo']:\n",
    "    archivo='./Data/'+ str(equipo)+'.csv'\n",
    "    df_platilla=pd.read_csv(archivo)\n",
    "    l=[]\n",
    "    for i in df_platilla['Nacionalidad'].unique():\n",
    "        n=len(df_platilla[df_platilla['Nacionalidad']==i])\n",
    "        tp=(i,n)\n",
    "        l.append(tp)\n",
    "    l=sorted(l, key=lambda x: x[1],reverse=True)\n",
    "    l=l[1:]\n",
    "    plt.figure(figsize=(15,10));\n",
    "    sns.barplot(x=[tp[0] for tp in l], y=[tp[1] for tp in l], color='skyblue')\n",
    "    plt.title('Nacionalidades del ' + equipo);\n",
    "    plt.xlabel('Nacionalidades')\n",
    "    plt.xticks(rotation=45);\n",
    "    plt.ylabel('Cantidad')\n",
    "    ubicaciones, etiquetas = plt.xticks()\n",
    "    c=0\n",
    "    for i in [tp[1] for tp in l]:\n",
    "        plt.text(ubicaciones[c], i + 0.0001, str(i), ha='center', va='bottom')\n",
    "        c+=1\n",
    "    plt.savefig('./Histograma Nacionalidades/'+ equipo+'.png');"
   ]
  },
  {
   "cell_type": "markdown",
   "metadata": {},
   "source": [
    "<p align=\"center\">\n",
    "  <img src=\"Histograma nacionalidades/FC Barcelona.png\" alt=\"Tabla Clasificacion\">\n",
    "  <img src=\"Histograma nacionalidades/Real Madrid.png\" alt=\"Tabla Clasificacion\">\n",
    "</p>"
   ]
  },
  {
   "cell_type": "markdown",
   "metadata": {},
   "source": [
    "<p align=\"center\">\n",
    "    <img src=\"Histograma nacionalidades/Atlético de Madrid.png\" alt=\"Tabla Clasificacion\">\n",
    "  <img src=\"Histograma nacionalidades/Real Sociedad.png\" alt=\"Tabla Clasificacion\">\n",
    "</p>"
   ]
  },
  {
   "cell_type": "markdown",
   "metadata": {},
   "source": [
    "Podemos obsevar que los tres primeros, al ser los clubes con mayor presupuesto, tiene la menos 10 jugadores de Paises con buen historial deportivo como son: Francia, Argentina, Brasil, Bélgica y Alemania."
   ]
  },
  {
   "cell_type": "markdown",
   "metadata": {},
   "source": [
    "<p align=\"center\">\n",
    "  <img src=\"Histograma nacionalidades/\\UD Almería.png\" alt=\"Tabla Clasificacion\">\n",
    "  <img src=\"Histograma nacionalidades/\\Real Valladolid.png\" alt=\"Tabla Clasificacion\">\n",
    "  <img src=\"Histograma nacionalidades/\\RCD Espanyol.png\" alt=\"Tabla Clasificacion\">\n",
    "  <img src=\"Histograma nacionalidades/\\Elche CF.png\" alt=\"Tabla Clasificacion\">\n",
    "</p>"
   ]
  },
  {
   "cell_type": "markdown",
   "metadata": {},
   "source": [
    "Por otro lado, podemos obsevar que los tres últimos tienen en general menos de 5 jugadores de estos paises y cuentan con mayor diversidad entre Paises menos 'Tops', quitando la inesperada aparición de 9 jugadores argentinos en Elche CF."
   ]
  },
  {
   "cell_type": "markdown",
   "metadata": {},
   "source": [
    "Concluimos, como era de esperar, que los equipos que se encuentran más arriba en la clasificación son los que tienen mayor capacidad de selección de jugadores."
   ]
  },
  {
   "cell_type": "markdown",
   "metadata": {},
   "source": [
    "Finalmente analizando la edad de los jugadores de los clubes tenemos:"
   ]
  },
  {
   "cell_type": "code",
   "execution_count": null,
   "metadata": {},
   "outputs": [],
   "source": [
    "l_edad=[]\n",
    "for equipo in df_clasi['Equipo']:\n",
    "    archivo='./Data/'+ str(equipo)+'.csv'\n",
    "    df_platilla=pd.read_csv(archivo)\n",
    "    l_edad.append(round(df_platilla['Edad'].mean(),2))\n",
    "plt.figure(figsize=(20,10));\n",
    "sns.barplot(x=df_clasi['Equipo'], y=l_edad, color='skyblue')\n",
    "plt.title('Edad media por equipo');\n",
    "plt.xlabel('Equipos')\n",
    "plt.xticks(rotation=45);\n",
    "plt.ylabel('Edad media')\n",
    "ubicaciones, etiquetas = plt.xticks()\n",
    "c=0\n",
    "for i in l_edad:\n",
    "    plt.text(ubicaciones[c], i + 0.1, str(i), ha='center', va='bottom')\n",
    "    c+=1\n",
    "plt.savefig('./Diagramas de barras/Edad media.png');"
   ]
  },
  {
   "cell_type": "markdown",
   "metadata": {},
   "source": [
    "<p align=\"center\">\n",
    "  <img src=\"Diagramas de barras/Edad media.png\" alt=\"Tabla Clasificacion\">\n",
    "</p>"
   ]
  },
  {
   "cell_type": "code",
   "execution_count": null,
   "metadata": {},
   "outputs": [],
   "source": [
    "l_edad_mediana=[]\n",
    "for equipo in df_clasi['Equipo']:\n",
    "    archivo='./Data/'+ str(equipo)+'.csv'\n",
    "    df_platilla=pd.read_csv(archivo)\n",
    "    l_edad_mediana.append(round(df_platilla['Edad'].median(),2))\n",
    "plt.figure(figsize=(20,10));\n",
    "sns.barplot(x=df_clasi['Equipo'], y=l_edad_mediana, color='skyblue')\n",
    "plt.title('Mediana de la edad por equipo');\n",
    "plt.xlabel('Equipos')\n",
    "plt.xticks(rotation=45);\n",
    "plt.ylabel('Mediana de la edad')\n",
    "ubicaciones, etiquetas = plt.xticks()\n",
    "c=0\n",
    "for i in l_edad_mediana:\n",
    "    plt.text(ubicaciones[c], i + 0.1, str(i), ha='center', va='bottom')\n",
    "    c+=1\n",
    "plt.savefig('./Diagramas de barras/Edad mediana.png');"
   ]
  },
  {
   "cell_type": "markdown",
   "metadata": {},
   "source": [
    "<p align=\"center\">\n",
    "  <img src=\"Diagramas de barras/Edad mediana.png\" alt=\"Tabla Clasificacion\">\n",
    "</p>"
   ]
  },
  {
   "cell_type": "markdown",
   "metadata": {},
   "source": [
    "De estos diagramas podemos observar que ni la media ni la mediana de la edad de los jugadores muestran una diferencia significativa en el rendimiento de los equipos"
   ]
  }
 ],
 "metadata": {
  "kernelspec": {
   "display_name": "Python 3",
   "language": "python",
   "name": "python3"
  },
  "language_info": {
   "codemirror_mode": {
    "name": "ipython",
    "version": 3
   },
   "file_extension": ".py",
   "mimetype": "text/x-python",
   "name": "python",
   "nbconvert_exporter": "python",
   "pygments_lexer": "ipython3",
   "version": "3.10.11"
  }
 },
 "nbformat": 4,
 "nbformat_minor": 2
}
